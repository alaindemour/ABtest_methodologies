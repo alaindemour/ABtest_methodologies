{
 "cells": [
  {
   "cell_type": "markdown",
   "metadata": {},
   "source": [
    "## AB Test Methodologies"
   ]
  },
  {
   "cell_type": "markdown",
   "metadata": {},
   "source": [
    "### General Structure of the test\n",
    "\n",
    "We have an existing jounrney which has a completion rate of x% , currently about 20%\n",
    "\n",
    "We are going to keep 70% of the traffic on the legacy/existing page and test 3 variants A, B and C f the legacy journey and want to make sure it does not degrade the journey significantly, the goal here is not to improve it just not making it worse."
   ]
  },
  {
   "cell_type": "markdown",
   "metadata": {},
   "source": [
    "### Null Hypothesis approach"
   ]
  },
  {
   "cell_type": "markdown",
   "metadata": {},
   "source": [
    "Null Hypothesis (H₀): The conversion rate for the variant is equal to the control (p_variant = p_control = 20%).\n",
    "\n",
    "Alternative Hypothesis (H₁): The conversion rate for the variant is different from (or higher than, if you’re testing for improvement) the control.\n",
    "\n",
    "Collect daily data for each group:\n",
    "\n",
    "n_A: Number of visitors in the control group per day (700)\n",
    "n_V: Number of visitors in each variant group per day (100)\n",
    "x_A: Number of conversions in the control group\n",
    "x_V: Number of conversions in each variant group\n",
    "\n",
    "Calculate the observed conversion rates (estimator), for the version, the control  and the 2 combine (the pool) as under the null hypothesis they can be combined in an estimator as the true conversion parameter is assumed identical\n",
    "\n",
    "$\\hat{p}_A = \\frac{x_A}{n_A}$\n",
    "\n",
    "$\\hat{p}_V = \\frac{x_V}{n_V}$\n",
    "\n",
    "$\\hat{p} = \\frac{x_A + x_V}{n_A, n_V}$\n",
    "\n",
    "Then we try to compute the variance standard deviation of the difference between the conversion rate of the control vs. the variance. The variance of the difference beteww the 2 proportion is the sum of their variance, so\n",
    "\n",
    "$Var(\\hat{p}_V -\\hat{p}_A) = Var(\\hat{p}_V) + Var(\\hat{p}_A)$\n",
    "\n",
    "and because both $\\hat{p_V}$ and $\\hat{p_A}$ are beroulli RV it means\n",
    "\n",
    "$Var(\\hat{p}_V -\\hat{p}_A) = \\frac{\\hat{p}(1- \\hat{p})}{n_A} + \\frac{\\hat{p}(1- \\hat{p})}{n_V} = \\hat{p}(1- \\hat{p}) (\\frac{1}{n_V} + \\frac{1}{n_A})$\n",
    "\n",
    "and the standard error which is just the standard deviation of the same quantity as \n",
    "\n",
    "$SE = \\sqrt{\\hat{p}(1- \\hat{p}) (\\frac{1}{n_V} + \\frac{1}{n_A})}$\n",
    "\n",
    "this is sometimnes called \"pooled standard error\" or \"standard error of the difference between two independent proportions\"\n",
    "\n",
    "From this we conmpute the z-score whuich is a dimenionless value counting the number of standard devaition that the difference observed is from the theoritical difference which shoiuld be zero under the null hypothesis. So a simple ivisino of the observed devation over teh standard deviation of hte diference\n",
    "\n",
    "$z= \\frac{\\hat{p_V} - \\hat{p}_A}{SE}$"
   ]
  },
  {
   "cell_type": "markdown",
   "metadata": {},
   "source": []
  }
 ],
 "metadata": {
  "language_info": {
   "name": "python"
  }
 },
 "nbformat": 4,
 "nbformat_minor": 2
}
